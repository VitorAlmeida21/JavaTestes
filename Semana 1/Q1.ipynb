{
 "cells": [
  {
   "cell_type": "code",
   "execution_count": 1,
   "id": "d5e50ea4-1487-4121-8870-0dd3ec24328e",
   "metadata": {},
   "outputs": [],
   "source": [
    "import java.util.Scanner;\n",
    "\n",
    "class converteTemp{\n",
    "    public static void main (String[] args) {\n",
    "        Scanner entrada = new Scanner(System.in);\n",
    "        int C = entrada.nextInt();\n",
    "        float F = (C*9/5)+32;\n",
    "        System.out.println(C+ \" graus Celsius corresponde a \" + F + \" Fahrenheit.\");\n",
    "    }\n",
    "}"
   ]
  }
 ],
 "metadata": {
  "kernelspec": {
   "display_name": "Java",
   "language": "java",
   "name": "java"
  },
  "language_info": {
   "codemirror_mode": "java",
   "file_extension": ".jshell",
   "mimetype": "text/x-java-source",
   "name": "Java",
   "pygments_lexer": "java",
   "version": "21.0.7+6-LTS"
  }
 },
 "nbformat": 4,
 "nbformat_minor": 5
}
