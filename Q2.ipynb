{
 "cells": [
  {
   "cell_type": "code",
   "execution_count": 1,
   "id": "413ae59d-8e52-4a68-bd51-a10e75d6a308",
   "metadata": {},
   "outputs": [],
   "source": [
    "import java.util.Scanner;\n",
    "\n",
    "public class Main {\n",
    "    public static void main(String[] args) {\n",
    "        Scanner scanner = new Scanner(System.in);\n",
    "        int nota = 0;\n",
    "        boolean notaValida = false;\n",
    "\n",
    "        System.out.println(\"Avalie nosso serviço com uma nota de 1 a 5:\");\n",
    "\n",
    "        while (!notaValida) {\n",
    "            if (scanner.hasNextInt()) {\n",
    "                nota = scanner.nextInt();\n",
    "\n",
    "                if (nota >= 1 && nota <= 5) {\n",
    "                    notaValida = true;\n",
    "                } else {\n",
    "                    System.out.println(\"O valor fornecido é inválido. Por favor, tente novamente:\");\n",
    "                }\n",
    "            } else {\n",
    "                scanner.next(); // consume invalid input\n",
    "                System.out.println(\"O valor fornecido é inválido. Por favor, tente novamente:\");\n",
    "            }\n",
    "        }\n",
    "\n",
    "        if (nota >= 3 && nota <= 5) {\n",
    "            System.out.println(\"Obrigado pela avaliação, esperamos futuras visitas!\");\n",
    "        } else {\n",
    "            System.out.println(\"Obrigado pela avaliação, tentaremos melhorar para sua próxima visita!\");\n",
    "        }\n",
    "\n",
    "        scanner.close();\n",
    "    }\n",
    "}"
   ]
  },
  {
   "cell_type": "code",
   "execution_count": null,
   "id": "5409ac30-c8a6-420d-b63a-e662a547d213",
   "metadata": {},
   "outputs": [],
   "source": []
  }
 ],
 "metadata": {
  "kernelspec": {
   "display_name": "Java",
   "language": "java",
   "name": "java"
  },
  "language_info": {
   "codemirror_mode": "java",
   "file_extension": ".jshell",
   "mimetype": "text/x-java-source",
   "name": "Java",
   "pygments_lexer": "java",
   "version": "21.0.7+6-LTS"
  }
 },
 "nbformat": 4,
 "nbformat_minor": 5
}
